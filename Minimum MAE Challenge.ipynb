{
 "cells": [
  {
   "cell_type": "code",
   "execution_count": 1,
   "metadata": {},
   "outputs": [
    {
     "name": "stdout",
     "output_type": "stream",
     "text": [
      "Index(['num', 't', 'area_osc', 'Peak.us', 'FT.1', 'FT.3', 'FT.5', 'FT.7',\n",
      "       'FT.9', 'Tag.Mpa', 'sid', 'fname'],\n",
      "      dtype='object')\n"
     ]
    }
   ],
   "source": [
    "import pandas as pd\n",
    "import numpy as np\n",
    "import matplotlib.pyplot as plt\n",
    "from sklearn.metrics import mean_absolute_error\n",
    "\n",
    "concrete = pd.read_csv(\"gv_data1.csv\")\n",
    "print(concrete.columns)"
   ]
  },
  {
   "cell_type": "code",
   "execution_count": 2,
   "metadata": {},
   "outputs": [
    {
     "data": {
      "text/html": [
       "<div>\n",
       "<style scoped>\n",
       "    .dataframe tbody tr th:only-of-type {\n",
       "        vertical-align: middle;\n",
       "    }\n",
       "\n",
       "    .dataframe tbody tr th {\n",
       "        vertical-align: top;\n",
       "    }\n",
       "\n",
       "    .dataframe thead th {\n",
       "        text-align: right;\n",
       "    }\n",
       "</style>\n",
       "<table border=\"1\" class=\"dataframe\">\n",
       "  <thead>\n",
       "    <tr style=\"text-align: right;\">\n",
       "      <th></th>\n",
       "      <th>num</th>\n",
       "      <th>t</th>\n",
       "      <th>area_osc</th>\n",
       "      <th>Peak.us</th>\n",
       "      <th>FT.1</th>\n",
       "      <th>FT.3</th>\n",
       "      <th>FT.5</th>\n",
       "      <th>FT.7</th>\n",
       "      <th>FT.9</th>\n",
       "      <th>Tag.Mpa</th>\n",
       "      <th>sid</th>\n",
       "      <th>fname</th>\n",
       "    </tr>\n",
       "  </thead>\n",
       "  <tbody>\n",
       "    <tr>\n",
       "      <th>0</th>\n",
       "      <td>0</td>\n",
       "      <td>30.0</td>\n",
       "      <td>304.827141</td>\n",
       "      <td>36.237609</td>\n",
       "      <td>0.000543</td>\n",
       "      <td>0.003428</td>\n",
       "      <td>0.001337</td>\n",
       "      <td>0.001436</td>\n",
       "      <td>0.000421</td>\n",
       "      <td>19.890</td>\n",
       "      <td>0</td>\n",
       "      <td>070221-box2_pair 4 C 12cm.csv</td>\n",
       "    </tr>\n",
       "    <tr>\n",
       "      <th>1</th>\n",
       "      <td>1</td>\n",
       "      <td>42.0</td>\n",
       "      <td>373.486940</td>\n",
       "      <td>34.972416</td>\n",
       "      <td>0.000584</td>\n",
       "      <td>0.003857</td>\n",
       "      <td>0.001608</td>\n",
       "      <td>0.001652</td>\n",
       "      <td>0.000654</td>\n",
       "      <td>23.930</td>\n",
       "      <td>0</td>\n",
       "      <td>070221-box2_pair 4 C 12cm.csv</td>\n",
       "    </tr>\n",
       "    <tr>\n",
       "      <th>2</th>\n",
       "      <td>2</td>\n",
       "      <td>50.0</td>\n",
       "      <td>359.549229</td>\n",
       "      <td>34.488487</td>\n",
       "      <td>0.000588</td>\n",
       "      <td>0.003586</td>\n",
       "      <td>0.001755</td>\n",
       "      <td>0.001888</td>\n",
       "      <td>0.000749</td>\n",
       "      <td>25.755</td>\n",
       "      <td>0</td>\n",
       "      <td>070221-box2_pair 4 C 12cm.csv</td>\n",
       "    </tr>\n",
       "    <tr>\n",
       "      <th>3</th>\n",
       "      <td>3</td>\n",
       "      <td>66.0</td>\n",
       "      <td>400.218680</td>\n",
       "      <td>33.887021</td>\n",
       "      <td>0.000559</td>\n",
       "      <td>0.003973</td>\n",
       "      <td>0.001692</td>\n",
       "      <td>0.002030</td>\n",
       "      <td>0.000971</td>\n",
       "      <td>30.090</td>\n",
       "      <td>0</td>\n",
       "      <td>070221-box2_pair 4 C 12cm.csv</td>\n",
       "    </tr>\n",
       "    <tr>\n",
       "      <th>4</th>\n",
       "      <td>4</td>\n",
       "      <td>120.0</td>\n",
       "      <td>448.345157</td>\n",
       "      <td>32.980691</td>\n",
       "      <td>0.000556</td>\n",
       "      <td>0.004180</td>\n",
       "      <td>0.001931</td>\n",
       "      <td>0.002559</td>\n",
       "      <td>0.001346</td>\n",
       "      <td>33.965</td>\n",
       "      <td>0</td>\n",
       "      <td>070221-box2_pair 4 C 12cm.csv</td>\n",
       "    </tr>\n",
       "  </tbody>\n",
       "</table>\n",
       "</div>"
      ],
      "text/plain": [
       "   num      t    area_osc    Peak.us      FT.1      FT.3      FT.5      FT.7  \\\n",
       "0    0   30.0  304.827141  36.237609  0.000543  0.003428  0.001337  0.001436   \n",
       "1    1   42.0  373.486940  34.972416  0.000584  0.003857  0.001608  0.001652   \n",
       "2    2   50.0  359.549229  34.488487  0.000588  0.003586  0.001755  0.001888   \n",
       "3    3   66.0  400.218680  33.887021  0.000559  0.003973  0.001692  0.002030   \n",
       "4    4  120.0  448.345157  32.980691  0.000556  0.004180  0.001931  0.002559   \n",
       "\n",
       "       FT.9  Tag.Mpa  sid                          fname  \n",
       "0  0.000421   19.890    0  070221-box2_pair 4 C 12cm.csv  \n",
       "1  0.000654   23.930    0  070221-box2_pair 4 C 12cm.csv  \n",
       "2  0.000749   25.755    0  070221-box2_pair 4 C 12cm.csv  \n",
       "3  0.000971   30.090    0  070221-box2_pair 4 C 12cm.csv  \n",
       "4  0.001346   33.965    0  070221-box2_pair 4 C 12cm.csv  "
      ]
     },
     "execution_count": 2,
     "metadata": {},
     "output_type": "execute_result"
    }
   ],
   "source": [
    "concrete.head()"
   ]
  },
  {
   "cell_type": "code",
   "execution_count": 3,
   "metadata": {},
   "outputs": [
    {
     "name": "stdout",
     "output_type": "stream",
     "text": [
      "dimension of concrete data: (798, 12)\n"
     ]
    }
   ],
   "source": [
    "print(\"dimension of concrete data: {}\".format(concrete.shape))"
   ]
  },
  {
   "cell_type": "code",
   "execution_count": 4,
   "metadata": {},
   "outputs": [
    {
     "data": {
      "text/plain": [
       "count    798.000000\n",
       "mean      30.718484\n",
       "std       11.535976\n",
       "min        5.710000\n",
       "25%       22.595000\n",
       "50%       29.480000\n",
       "75%       38.940000\n",
       "max       63.585000\n",
       "Name: Tag.Mpa, dtype: float64"
      ]
     },
     "execution_count": 4,
     "metadata": {},
     "output_type": "execute_result"
    }
   ],
   "source": [
    "concrete['Tag.Mpa'].describe()"
   ]
  },
  {
   "cell_type": "code",
   "execution_count": 5,
   "metadata": {},
   "outputs": [
    {
     "name": "stderr",
     "output_type": "stream",
     "text": [
      "C:\\ProgramData\\Anaconda3\\lib\\site-packages\\seaborn\\distributions.py:2551: FutureWarning: `distplot` is a deprecated function and will be removed in a future version. Please adapt your code to use either `displot` (a figure-level function with similar flexibility) or `histplot` (an axes-level function for histograms).\n",
      "  warnings.warn(msg, FutureWarning)\n"
     ]
    },
    {
     "data": {
      "text/plain": [
       "<AxesSubplot:xlabel='Tag.Mpa', ylabel='Density'>"
      ]
     },
     "execution_count": 5,
     "metadata": {},
     "output_type": "execute_result"
    },
    {
     "data": {
      "image/png": "[encoded data removed]",
      "text/plain": [
       "<Figure size 432x288 with 1 Axes>"
      ]
     },
     "metadata": {
      "needs_background": "light"
     },
     "output_type": "display_data"
    }
   ],
   "source": [
    "import seaborn as sns\n",
    "\n",
    "sns.distplot(concrete['Tag.Mpa'],kde=True, kde_kws={\"color\":\"tab:blue\"}, hist_kws={\"color\":\"tab:orange\"})"
   ]
  },
  {
   "cell_type": "code",
   "execution_count": 6,
   "metadata": {},
   "outputs": [
    {
     "name": "stdout",
     "output_type": "stream",
     "text": [
      "<class 'pandas.core.frame.DataFrame'>\n",
      "RangeIndex: 798 entries, 0 to 797\n",
      "Data columns (total 12 columns):\n",
      " #   Column    Non-Null Count  Dtype  \n",
      "---  ------    --------------  -----  \n",
      " 0   num       798 non-null    int64  \n",
      " 1   t         798 non-null    float64\n",
      " 2   area_osc  798 non-null    float64\n",
      " 3   Peak.us   798 non-null    float64\n",
      " 4   FT.1      798 non-null    float64\n",
      " 5   FT.3      798 non-null    float64\n",
      " 6   FT.5      798 non-null    float64\n",
      " 7   FT.7      798 non-null    float64\n",
      " 8   FT.9      798 non-null    float64\n",
      " 9   Tag.Mpa   798 non-null    float64\n",
      " 10  sid       798 non-null    int64  \n",
      " 11  fname     798 non-null    object \n",
      "dtypes: float64(9), int64(2), object(1)\n",
      "memory usage: 74.9+ KB\n"
     ]
    }
   ],
   "source": [
    "concrete.info()"
   ]
  },
  {
   "cell_type": "code",
   "execution_count": 7,
   "metadata": {},
   "outputs": [
    {
     "data": {
      "text/html": [
       "<div>\n",
       "<style scoped>\n",
       "    .dataframe tbody tr th:only-of-type {\n",
       "        vertical-align: middle;\n",
       "    }\n",
       "\n",
       "    .dataframe tbody tr th {\n",
       "        vertical-align: top;\n",
       "    }\n",
       "\n",
       "    .dataframe thead th {\n",
       "        text-align: right;\n",
       "    }\n",
       "</style>\n",
       "<table border=\"1\" class=\"dataframe\">\n",
       "  <thead>\n",
       "    <tr style=\"text-align: right;\">\n",
       "      <th></th>\n",
       "      <th>area_osc</th>\n",
       "      <th>Peak.us</th>\n",
       "      <th>FT.1</th>\n",
       "      <th>FT.3</th>\n",
       "      <th>FT.5</th>\n",
       "      <th>FT.7</th>\n",
       "      <th>FT.9</th>\n",
       "      <th>Tag.Mpa</th>\n",
       "    </tr>\n",
       "  </thead>\n",
       "  <tbody>\n",
       "    <tr>\n",
       "      <th>0</th>\n",
       "      <td>304.827141</td>\n",
       "      <td>36.237609</td>\n",
       "      <td>0.000543</td>\n",
       "      <td>0.003428</td>\n",
       "      <td>0.001337</td>\n",
       "      <td>0.001436</td>\n",
       "      <td>0.000421</td>\n",
       "      <td>19.890</td>\n",
       "    </tr>\n",
       "    <tr>\n",
       "      <th>1</th>\n",
       "      <td>373.486940</td>\n",
       "      <td>34.972416</td>\n",
       "      <td>0.000584</td>\n",
       "      <td>0.003857</td>\n",
       "      <td>0.001608</td>\n",
       "      <td>0.001652</td>\n",
       "      <td>0.000654</td>\n",
       "      <td>23.930</td>\n",
       "    </tr>\n",
       "    <tr>\n",
       "      <th>2</th>\n",
       "      <td>359.549229</td>\n",
       "      <td>34.488487</td>\n",
       "      <td>0.000588</td>\n",
       "      <td>0.003586</td>\n",
       "      <td>0.001755</td>\n",
       "      <td>0.001888</td>\n",
       "      <td>0.000749</td>\n",
       "      <td>25.755</td>\n",
       "    </tr>\n",
       "    <tr>\n",
       "      <th>3</th>\n",
       "      <td>400.218680</td>\n",
       "      <td>33.887021</td>\n",
       "      <td>0.000559</td>\n",
       "      <td>0.003973</td>\n",
       "      <td>0.001692</td>\n",
       "      <td>0.002030</td>\n",
       "      <td>0.000971</td>\n",
       "      <td>30.090</td>\n",
       "    </tr>\n",
       "    <tr>\n",
       "      <th>4</th>\n",
       "      <td>448.345157</td>\n",
       "      <td>32.980691</td>\n",
       "      <td>0.000556</td>\n",
       "      <td>0.004180</td>\n",
       "      <td>0.001931</td>\n",
       "      <td>0.002559</td>\n",
       "      <td>0.001346</td>\n",
       "      <td>33.965</td>\n",
       "    </tr>\n",
       "  </tbody>\n",
       "</table>\n",
       "</div>"
      ],
      "text/plain": [
       "     area_osc    Peak.us      FT.1      FT.3      FT.5      FT.7      FT.9  \\\n",
       "0  304.827141  36.237609  0.000543  0.003428  0.001337  0.001436  0.000421   \n",
       "1  373.486940  34.972416  0.000584  0.003857  0.001608  0.001652  0.000654   \n",
       "2  359.549229  34.488487  0.000588  0.003586  0.001755  0.001888  0.000749   \n",
       "3  400.218680  33.887021  0.000559  0.003973  0.001692  0.002030  0.000971   \n",
       "4  448.345157  32.980691  0.000556  0.004180  0.001931  0.002559  0.001346   \n",
       "\n",
       "   Tag.Mpa  \n",
       "0   19.890  \n",
       "1   23.930  \n",
       "2   25.755  \n",
       "3   30.090  \n",
       "4   33.965  "
      ]
     },
     "execution_count": 7,
     "metadata": {},
     "output_type": "execute_result"
    }
   ],
   "source": [
    "concrete.drop(['num','t','sid','fname'], axis=1, inplace=True)\n",
    "concrete.head()"
   ]
  },
  {
   "cell_type": "code",
   "execution_count": 8,
   "metadata": {},
   "outputs": [],
   "source": [
    "X = concrete[['area_osc','Peak.us','FT.1','FT.3','FT.5','FT.7','FT.9']]\n",
    "y = concrete['Tag.Mpa']"
   ]
  },
  {
   "cell_type": "code",
   "execution_count": 9,
   "metadata": {},
   "outputs": [
    {
     "data": {
      "text/plain": [
       "<matplotlib.legend.Legend at 0x1e8c2ff70c8>"
      ]
     },
     "execution_count": 9,
     "metadata": {},
     "output_type": "execute_result"
    },
    {
     "data": {
      "image/png": "[encoded data removed]",
      "text/plain": [
       "<Figure size 432x288 with 1 Axes>"
      ]
     },
     "metadata": {
      "needs_background": "light"
     },
     "output_type": "display_data"
    }
   ],
   "source": [
    "from sklearn.model_selection import train_test_split\n",
    "X_train, X_test, y_train, y_test = train_test_split(X, y, test_size=0.33, random_state=42)\n",
    "\n",
    "from sklearn.neighbors import KNeighborsRegressor\n",
    "\n",
    "training_mae = []\n",
    "test_mae = []\n",
    "\n",
    "# try n_neighbors from 1 to 10\n",
    "neighbors_settings = range(1, 11)\n",
    "for n_neighbors in neighbors_settings:\n",
    "    # build the model\n",
    "    knn = KNeighborsRegressor(n_neighbors=n_neighbors)\n",
    "    knn.fit(X_train, y_train)\n",
    "    y_pred = knn.predict(X_train)\n",
    "    # record training set expected error\n",
    "    training_mae.append(mean_absolute_error(y_train, y_pred))\n",
    "    # record test set expected error\n",
    "    y_pred1 = knn.predict(X_test)\n",
    "    test_mae.append(mean_absolute_error(y_test, y_pred1))\n",
    "    \n",
    "plt.plot(neighbors_settings, training_mae, label=\"training MAE\")\n",
    "plt.plot(neighbors_settings, test_mae, label=\"test MAE\")\n",
    "plt.ylabel(\"MAE\")\n",
    "plt.xlabel(\"n_neighbors\")\n",
    "plt.legend()"
   ]
  },
  {
   "cell_type": "code",
   "execution_count": 10,
   "metadata": {},
   "outputs": [
    {
     "name": "stdout",
     "output_type": "stream",
     "text": [
      "MAE of KNN Regressor on training set: 5.821\n",
      "MAE of KNN Regressor on test set: 7.955\n"
     ]
    }
   ],
   "source": [
    "knn = KNeighborsRegressor(n_neighbors=6)\n",
    "knn.fit(X_train, y_train)\n",
    "\n",
    "y_pred = knn.predict(X_train)\n",
    "y_pred1 = knn.predict(X_test)\n",
    "k1 = mean_absolute_error(y_train, y_pred)\n",
    "k2 = mean_absolute_error(y_test, y_pred1)\n",
    "\n",
    "print(\"MAE of KNN Regressor on training set: {:.3f}\".format(k1))\n",
    "print(\"MAE of KNN Regressor on test set: {:.3f}\".format(k2))"
   ]
  },
  {
   "cell_type": "code",
   "execution_count": 11,
   "metadata": {},
   "outputs": [
    {
     "name": "stdout",
     "output_type": "stream",
     "text": [
      "MAE of Linear Regression on training set: 6.065\n",
      "MAE of Linear Regression on test set: 6.576\n"
     ]
    }
   ],
   "source": [
    "from sklearn.linear_model import LinearRegression\n",
    "linreg = LinearRegression()\n",
    "linreg.fit(X_train, y_train)\n",
    "\n",
    "y_pred = linreg.predict(X_train)\n",
    "y_pred1 = linreg.predict(X_test)\n",
    "l1 = mean_absolute_error(y_train, y_pred)\n",
    "l2 = mean_absolute_error(y_test, y_pred1)\n",
    "\n",
    "print(\"MAE of Linear Regression on training set: {:.3f}\".format(l1))\n",
    "print(\"MAE of Linear Regression on test set: {:.3f}\".format(l2))"
   ]
  },
  {
   "cell_type": "code",
   "execution_count": 12,
   "metadata": {},
   "outputs": [
    {
     "name": "stdout",
     "output_type": "stream",
     "text": [
      "MAE of Decision Tree Regressor on training set: 0.000\n",
      "MAE of Decision Tree Regressor on test set: 4.208\n"
     ]
    }
   ],
   "source": [
    "concrete_features = [x for i,x in enumerate(X.columns) if i!=7]\n",
    "\n",
    "from sklearn.tree import DecisionTreeRegressor\n",
    "tree = DecisionTreeRegressor(random_state=42)\n",
    "tree.fit(X_train, y_train)\n",
    "\n",
    "y_pred = tree.predict(X_train)\n",
    "y_pred1 = tree.predict(X_test)\n",
    "t1 = mean_absolute_error(y_train, y_pred)\n",
    "t2 = mean_absolute_error(y_test, y_pred1)\n",
    "\n",
    "print(\"MAE of Decision Tree Regressor on training set: {:.3f}\".format(t1))\n",
    "print(\"MAE of Decision Tree Regressor on test set: {:.3f}\".format(t2))"
   ]
  },
  {
   "cell_type": "code",
   "execution_count": 13,
   "metadata": {},
   "outputs": [
    {
     "name": "stdout",
     "output_type": "stream",
     "text": [
      "MAE of Decision Tree Regressor on training set: 0.593\n",
      "MAE of Decision Tree Regressor on test set: 4.190\n"
     ]
    }
   ],
   "source": [
    "tree1 = DecisionTreeRegressor(random_state=42, max_depth=11)\n",
    "tree1.fit(X_train, y_train)\n",
    "\n",
    "y_pred = tree1.predict(X_train)\n",
    "y_pred1 = tree1.predict(X_test)\n",
    "t3 = mean_absolute_error(y_train, y_pred)\n",
    "t4 = mean_absolute_error(y_test, y_pred1)\n",
    "\n",
    "print(\"MAE of Decision Tree Regressor on training set: {:.3f}\".format(t3))\n",
    "print(\"MAE of Decision Tree Regressor on test set: {:.3f}\".format(t4))"
   ]
  },
  {
   "cell_type": "code",
   "execution_count": 14,
   "metadata": {},
   "outputs": [
    {
     "name": "stdout",
     "output_type": "stream",
     "text": [
      "Feature importances:\n",
      "[0.0798353  0.28033977 0.06243741 0.03522198 0.03051368 0.05825283\n",
      " 0.45339904]\n"
     ]
    }
   ],
   "source": [
    "print(\"Feature importances:\\n{}\".format(tree1.feature_importances_))"
   ]
  },
  {
   "cell_type": "code",
   "execution_count": 15,
   "metadata": {},
   "outputs": [
    {
     "data": {
      "image/png": "[encoded data removed]",
      "text/plain": [
       "<Figure size 576x432 with 1 Axes>"
      ]
     },
     "metadata": {
      "needs_background": "light"
     },
     "output_type": "display_data"
    }
   ],
   "source": [
    "def plot_feature_importances(model):\n",
    "    plt.figure(figsize=(8,6))\n",
    "    n_features = X.shape[1]\n",
    "    plt.barh(range(n_features), model.feature_importances_, align='center')\n",
    "    plt.yticks(np.arange(n_features), concrete_features)\n",
    "    plt.xlabel(\"Feature importance\")\n",
    "    plt.ylabel(\"Feature\")\n",
    "    plt.ylim(-1, n_features)\n",
    "\n",
    "plot_feature_importances(tree1)\n",
    "plt.savefig('feature_importance')"
   ]
  },
  {
   "cell_type": "code",
   "execution_count": 16,
   "metadata": {},
   "outputs": [
    {
     "name": "stdout",
     "output_type": "stream",
     "text": [
      "MAE of Random Forest Regressor on training set: 1.428\n",
      "MAE of Random Forest Regressor on test set: 3.351\n"
     ]
    }
   ],
   "source": [
    "from sklearn.ensemble import RandomForestRegressor\n",
    "rf = RandomForestRegressor(random_state=42, n_estimators=100)\n",
    "rf.fit(X_train, y_train)\n",
    "\n",
    "y_pred = rf.predict(X_train)\n",
    "y_pred1 = rf.predict(X_test)\n",
    "r1 = mean_absolute_error(y_train, y_pred)\n",
    "r2 = mean_absolute_error(y_test, y_pred1)\n",
    "\n",
    "print(\"MAE of Random Forest Regressor on training set: {:.3f}\".format(r1))\n",
    "print(\"MAE of Random Forest Regressor on test set: {:.3f}\".format(r2))"
   ]
  },
  {
   "cell_type": "code",
   "execution_count": 17,
   "metadata": {},
   "outputs": [
    {
     "name": "stdout",
     "output_type": "stream",
     "text": [
      "MAE of Random Forest Regressor on training set: 1.529\n",
      "MAE of Random Forest Regressor on test set: 3.395\n"
     ]
    }
   ],
   "source": [
    "rf1 = RandomForestRegressor(random_state=42, n_estimators=100, max_depth=11)\n",
    "rf1.fit(X_train, y_train)\n",
    "\n",
    "y_pred = rf1.predict(X_train)\n",
    "y_pred1 = rf1.predict(X_test)\n",
    "r3 = mean_absolute_error(y_train, y_pred)\n",
    "r4= mean_absolute_error(y_test, y_pred1)\n",
    "\n",
    "print(\"MAE of Random Forest Regressor on training set: {:.3f}\".format(r3))\n",
    "print(\"MAE of Random Forest Regressor on test set: {:.3f}\".format(r4))"
   ]
  },
  {
   "cell_type": "code",
   "execution_count": 18,
   "metadata": {},
   "outputs": [
    {
     "data": {
      "image/png": "[encoded data removed]",
      "text/plain": [
       "<Figure size 576x432 with 1 Axes>"
      ]
     },
     "metadata": {
      "needs_background": "light"
     },
     "output_type": "display_data"
    }
   ],
   "source": [
    "plot_feature_importances(rf)"
   ]
  },
  {
   "cell_type": "code",
   "execution_count": 19,
   "metadata": {},
   "outputs": [
    {
     "name": "stdout",
     "output_type": "stream",
     "text": [
      "MAE of Gradient Boosting Regressor on training set: 2.355\n",
      "MAE of Gradient Boosting Regressor on test set: 3.634\n"
     ]
    }
   ],
   "source": [
    "from sklearn.ensemble import GradientBoostingRegressor\n",
    "gb = GradientBoostingRegressor(random_state=42)\n",
    "gb.fit(X_train, y_train)\n",
    "\n",
    "y_pred = gb.predict(X_train)\n",
    "y_pred1 = gb.predict(X_test)\n",
    "g1 = mean_absolute_error(y_train, y_pred)\n",
    "g2 = mean_absolute_error(y_test, y_pred1)\n",
    "\n",
    "print(\"MAE of Gradient Boosting Regressor on training set: {:.3f}\".format(g1))\n",
    "print(\"MAE of Gradient Boosting Regressor on test set: {:.3f}\".format(g2))"
   ]
  },
  {
   "cell_type": "code",
   "execution_count": 20,
   "metadata": {},
   "outputs": [
    {
     "name": "stdout",
     "output_type": "stream",
     "text": [
      "MAE of Gradient Boosting Regressor on training set: 4.373\n",
      "MAE of Gradient Boosting Regressor on test set: 4.781\n"
     ]
    }
   ],
   "source": [
    "gb1 = GradientBoostingRegressor(random_state=42, max_depth=1)\n",
    "gb1.fit(X_train, y_train)\n",
    "\n",
    "y_pred = gb1.predict(X_train)\n",
    "y_pred1 = gb1.predict(X_test)\n",
    "g3 = mean_absolute_error(y_train, y_pred)\n",
    "g4 = mean_absolute_error(y_test, y_pred1)\n",
    "\n",
    "print(\"MAE of Gradient Boosting Regressor on training set: {:.3f}\".format(g3))\n",
    "print(\"MAE of Gradient Boosting Regressor on test set: {:.3f}\".format(g4))"
   ]
  },
  {
   "cell_type": "code",
   "execution_count": 21,
   "metadata": {},
   "outputs": [
    {
     "name": "stdout",
     "output_type": "stream",
     "text": [
      "MAE of Gradient Boosting Regressor on training set: 5.482\n",
      "MAE of Gradient Boosting Regressor on test set: 6.072\n"
     ]
    }
   ],
   "source": [
    "gb2 = GradientBoostingRegressor(random_state=42, learning_rate=0.01)\n",
    "gb2.fit(X_train, y_train)\n",
    "\n",
    "y_pred = gb2.predict(X_train)\n",
    "y_pred1 = gb2.predict(X_test)\n",
    "g5 = mean_absolute_error(y_train, y_pred)\n",
    "g6 = mean_absolute_error(y_test, y_pred1)\n",
    "\n",
    "print(\"MAE of Gradient Boosting Regressor on training set: {:.3f}\".format(g5))\n",
    "print(\"MAE of Gradient Boosting Regressor on test set: {:.3f}\".format(g6))"
   ]
  },
  {
   "cell_type": "code",
   "execution_count": 22,
   "metadata": {},
   "outputs": [
    {
     "data": {
      "image/png": "[encoded data removed]",
      "text/plain": [
       "<Figure size 576x432 with 1 Axes>"
      ]
     },
     "metadata": {
      "needs_background": "light"
     },
     "output_type": "display_data"
    }
   ],
   "source": [
    "plot_feature_importances(gb)"
   ]
  },
  {
   "cell_type": "code",
   "execution_count": 23,
   "metadata": {},
   "outputs": [
    {
     "name": "stdout",
     "output_type": "stream",
     "text": [
      "MAE of Support Vector Regressor on training set: 7.704\n",
      "MAE of Support Vector Regressor on test set: 8.707\n"
     ]
    }
   ],
   "source": [
    "from sklearn.svm import SVR\n",
    "svr = SVR()\n",
    "svr.fit(X_train, y_train)\n",
    "\n",
    "y_pred = svr.predict(X_train)\n",
    "y_pred1 = svr.predict(X_test)\n",
    "s1 = mean_absolute_error(y_train, y_pred)\n",
    "s2 = mean_absolute_error(y_test, y_pred1)\n",
    "\n",
    "print(\"MAE of Support Vector Regressor on training set: {:.3f}\".format(s1))\n",
    "print(\"MAE of Support Vector Regressor on test set: {:.3f}\".format(s2))"
   ]
  },
  {
   "cell_type": "code",
   "execution_count": 24,
   "metadata": {},
   "outputs": [
    {
     "name": "stdout",
     "output_type": "stream",
     "text": [
      "MAE of Support Vector Regressor on training set: 5.355\n",
      "MAE of Support Vector Regressor on test set: 6.390\n"
     ]
    }
   ],
   "source": [
    "from sklearn.preprocessing import MinMaxScaler\n",
    "\n",
    "scaler = MinMaxScaler()\n",
    "X_train_scaled = scaler.fit_transform(X_train)\n",
    "X_test_scaled = scaler.fit_transform(X_test)\n",
    "\n",
    "svr1 = SVR()\n",
    "svr1.fit(X_train_scaled, y_train)\n",
    "\n",
    "y_pred = svr1.predict(X_train_scaled)\n",
    "y_pred1 = svr1.predict(X_test_scaled)\n",
    "s3 = mean_absolute_error(y_train, y_pred)\n",
    "s4 = mean_absolute_error(y_test, y_pred1)\n",
    "\n",
    "print(\"MAE of Support Vector Regressor on training set: {:.3f}\".format(s3))\n",
    "print(\"MAE of Support Vector Regressor on test set: {:.3f}\".format(s4))"
   ]
  },
  {
   "cell_type": "code",
   "execution_count": 25,
   "metadata": {},
   "outputs": [
    {
     "name": "stdout",
     "output_type": "stream",
     "text": [
      "MAE of Support Vector Regressor on training set: 5.021\n",
      "MAE of Support Vector Regressor on test set: 5.872\n"
     ]
    }
   ],
   "source": [
    "svr2 = SVR(gamma=10)\n",
    "svr2.fit(X_train_scaled, y_train)\n",
    "\n",
    "y_pred = svr2.predict(X_train_scaled)\n",
    "y_pred1 = svr2.predict(X_test_scaled)\n",
    "s5 = mean_absolute_error(y_train, y_pred)\n",
    "s6 = mean_absolute_error(y_test, y_pred1)\n",
    "\n",
    "print(\"MAE of Support Vector Regressor on training set: {:.3f}\".format(s5))\n",
    "print(\"MAE of Support Vector Regressor on test set: {:.3f}\".format(s6))"
   ]
  },
  {
   "cell_type": "code",
   "execution_count": 26,
   "metadata": {},
   "outputs": [
    {
     "name": "stdout",
     "output_type": "stream",
     "text": [
      "MAE of MLP Regressor on training set: 8.439\n",
      "MAE of MLP Regressor on test set: 9.663\n"
     ]
    }
   ],
   "source": [
    "from sklearn.neural_network import MLPRegressor\n",
    "mlp = MLPRegressor(random_state=42)\n",
    "mlp.fit(X_train, y_train)\n",
    "\n",
    "y_pred = mlp.predict(X_train)\n",
    "y_pred1 = mlp.predict(X_test)\n",
    "m1 = mean_absolute_error(y_train, y_pred)\n",
    "m2 = mean_absolute_error(y_test, y_pred1)\n",
    "\n",
    "print(\"MAE of MLP Regressor on training set: {:.3f}\".format(m1))\n",
    "print(\"MAE of MLP Regressor on test set: {:.3f}\".format(m2))"
   ]
  },
  {
   "cell_type": "code",
   "execution_count": 27,
   "metadata": {},
   "outputs": [
    {
     "name": "stdout",
     "output_type": "stream",
     "text": [
      "MAE of MLP Regressor on training set: 6.635\n",
      "MAE of MLP Regressor on test set: 7.018\n"
     ]
    },
    {
     "name": "stderr",
     "output_type": "stream",
     "text": [
      "C:\\ProgramData\\Anaconda3\\lib\\site-packages\\sklearn\\neural_network\\_multilayer_perceptron.py:585: ConvergenceWarning: Stochastic Optimizer: Maximum iterations (200) reached and the optimization hasn't converged yet.\n",
      "  % self.max_iter, ConvergenceWarning)\n"
     ]
    }
   ],
   "source": [
    "from sklearn.preprocessing import StandardScaler\n",
    "scaler = StandardScaler()\n",
    "X_train_scaled = scaler.fit_transform(X_train)\n",
    "X_test_scaled = scaler.fit_transform(X_test)\n",
    "\n",
    "mlp1 = MLPRegressor(random_state=42)\n",
    "mlp1.fit(X_train_scaled, y_train)\n",
    "\n",
    "y_pred = mlp1.predict(X_train_scaled)\n",
    "y_pred1 = mlp1.predict(X_test_scaled)\n",
    "m3 = mean_absolute_error(y_train, y_pred)\n",
    "m4 = mean_absolute_error(y_test, y_pred1)\n",
    "print(\"MAE of MLP Regressor on training set: {:.3f}\".format(m3))\n",
    "print(\"MAE of MLP Regressor on test set: {:.3f}\".format(m4))"
   ]
  },
  {
   "cell_type": "code",
   "execution_count": 28,
   "metadata": {},
   "outputs": [
    {
     "name": "stdout",
     "output_type": "stream",
     "text": [
      "MAE of MLP Regressor on training set: 4.069\n",
      "MAE of MLP Regressor on test set: 4.510\n"
     ]
    },
    {
     "name": "stderr",
     "output_type": "stream",
     "text": [
      "C:\\ProgramData\\Anaconda3\\lib\\site-packages\\sklearn\\neural_network\\_multilayer_perceptron.py:585: ConvergenceWarning: Stochastic Optimizer: Maximum iterations (1000) reached and the optimization hasn't converged yet.\n",
      "  % self.max_iter, ConvergenceWarning)\n"
     ]
    }
   ],
   "source": [
    "mlp2 = MLPRegressor(random_state=42, max_iter=1000)\n",
    "mlp2.fit(X_train_scaled, y_train)\n",
    "\n",
    "y_pred = mlp2.predict(X_train_scaled)\n",
    "y_pred1 = mlp2.predict(X_test_scaled)\n",
    "m5 = mean_absolute_error(y_train, y_pred)\n",
    "m6 = mean_absolute_error(y_test, y_pred1)\n",
    "\n",
    "print(\"MAE of MLP Regressor on training set: {:.3f}\".format(m5))\n",
    "print(\"MAE of MLP Regressor on test set: {:.3f}\".format(m6))"
   ]
  },
  {
   "cell_type": "code",
   "execution_count": 29,
   "metadata": {},
   "outputs": [
    {
     "name": "stdout",
     "output_type": "stream",
     "text": [
      "MAE of MLP Regressor on training set: 4.075\n",
      "MAE of MLP Regressor on test set: 4.547\n"
     ]
    },
    {
     "name": "stderr",
     "output_type": "stream",
     "text": [
      "C:\\ProgramData\\Anaconda3\\lib\\site-packages\\sklearn\\neural_network\\_multilayer_perceptron.py:585: ConvergenceWarning: Stochastic Optimizer: Maximum iterations (1000) reached and the optimization hasn't converged yet.\n",
      "  % self.max_iter, ConvergenceWarning)\n"
     ]
    }
   ],
   "source": [
    "mlp3 = MLPRegressor(random_state=42, max_iter=1000, alpha=1)\n",
    "mlp3.fit(X_train_scaled, y_train)\n",
    "\n",
    "y_pred = mlp3.predict(X_train_scaled)\n",
    "y_pred1 = mlp3.predict(X_test_scaled)\n",
    "m7 = mean_absolute_error(y_train, y_pred)\n",
    "m8 = mean_absolute_error(y_test, y_pred1)\n",
    "\n",
    "print(\"MAE of MLP Regressor on training set: {:.3f}\".format(m7))\n",
    "print(\"MAE of MLP Regressor on test set: {:.3f}\".format(m8))"
   ]
  },
  {
   "cell_type": "code",
   "execution_count": 30,
   "metadata": {},
   "outputs": [
    {
     "data": {
      "text/plain": [
       "<matplotlib.colorbar.Colorbar at 0x1e8c545ba48>"
      ]
     },
     "execution_count": 30,
     "metadata": {},
     "output_type": "execute_result"
    },
    {
     "data": {
      "image/png": "[encoded data removed]",
      "text/plain": [
       "<Figure size 1440x360 with 2 Axes>"
      ]
     },
     "metadata": {
      "needs_background": "light"
     },
     "output_type": "display_data"
    }
   ],
   "source": [
    "plt.figure(figsize=(20, 5))\n",
    "plt.imshow(mlp2.coefs_[0], interpolation='none', cmap='viridis')\n",
    "plt.yticks(range(X.shape[1]), concrete_features)\n",
    "plt.xlabel(\"Columns in weight matrix\")\n",
    "plt.ylabel(\"Input feature\")\n",
    "plt.colorbar()"
   ]
  },
  {
   "cell_type": "code",
   "execution_count": 31,
   "metadata": {},
   "outputs": [
    {
     "data": {
      "text/html": [
       "<div>\n",
       "<style scoped>\n",
       "    .dataframe tbody tr th:only-of-type {\n",
       "        vertical-align: middle;\n",
       "    }\n",
       "\n",
       "    .dataframe tbody tr th {\n",
       "        vertical-align: top;\n",
       "    }\n",
       "\n",
       "    .dataframe thead th {\n",
       "        text-align: right;\n",
       "    }\n",
       "</style>\n",
       "<table border=\"1\" class=\"dataframe\">\n",
       "  <thead>\n",
       "    <tr style=\"text-align: right;\">\n",
       "      <th></th>\n",
       "      <th>Algorithms</th>\n",
       "      <th>Tests MAE</th>\n",
       "    </tr>\n",
       "  </thead>\n",
       "  <tbody>\n",
       "    <tr>\n",
       "      <th>3</th>\n",
       "      <td>Random Forest Regressor</td>\n",
       "      <td>3.351065</td>\n",
       "    </tr>\n",
       "    <tr>\n",
       "      <th>4</th>\n",
       "      <td>Gradient Boosting Regressor</td>\n",
       "      <td>3.633883</td>\n",
       "    </tr>\n",
       "    <tr>\n",
       "      <th>2</th>\n",
       "      <td>Decision Tree Regressor</td>\n",
       "      <td>4.189681</td>\n",
       "    </tr>\n",
       "    <tr>\n",
       "      <th>6</th>\n",
       "      <td>MLP Regressor</td>\n",
       "      <td>4.509878</td>\n",
       "    </tr>\n",
       "    <tr>\n",
       "      <th>5</th>\n",
       "      <td>Support Vector Regressor</td>\n",
       "      <td>5.871886</td>\n",
       "    </tr>\n",
       "    <tr>\n",
       "      <th>1</th>\n",
       "      <td>Linear Regression</td>\n",
       "      <td>6.576419</td>\n",
       "    </tr>\n",
       "    <tr>\n",
       "      <th>0</th>\n",
       "      <td>KNN Regressor</td>\n",
       "      <td>7.954821</td>\n",
       "    </tr>\n",
       "  </tbody>\n",
       "</table>\n",
       "</div>"
      ],
      "text/plain": [
       "                    Algorithms  Tests MAE\n",
       "3      Random Forest Regressor   3.351065\n",
       "4  Gradient Boosting Regressor   3.633883\n",
       "2      Decision Tree Regressor   4.189681\n",
       "6                MLP Regressor   4.509878\n",
       "5     Support Vector Regressor   5.871886\n",
       "1            Linear Regression   6.576419\n",
       "0                KNN Regressor   7.954821"
      ]
     },
     "execution_count": 31,
     "metadata": {},
     "output_type": "execute_result"
    }
   ],
   "source": [
    "models = [\"KNN Regressor\", \"Linear Regression\", \"Decision Tree Regressor\" ,\"Random Forest Regressor\",\n",
    " \"Gradient Boosting Regressor\",\"Support Vector Regressor\", \"MLP Regressor\"]\n",
    "tests_mae = [k2, l2, t4, r2, g2, s6, m6]\n",
    "compare_models = pd.DataFrame({ \"Algorithms\": models, \"Tests MAE\": tests_mae })\n",
    "compare_models.sort_values(by = \"Tests MAE\", ascending = True)"
   ]
  },
  {
   "cell_type": "code",
   "execution_count": 32,
   "metadata": {},
   "outputs": [
    {
     "data": {
      "image/png": "[encoded data removed]",
      "text/plain": [
       "<Figure size 576x576 with 1 Axes>"
      ]
     },
     "metadata": {
      "needs_background": "light"
     },
     "output_type": "display_data"
    }
   ],
   "source": [
    "import matplotlib.pyplot as plt\n",
    "%matplotlib inline\n",
    "plt.figure(figsize=(8,8))\n",
    "sns.barplot(x = \"Tests MAE\", y = \"Algorithms\", data = compare_models)\n",
    "plt.show()"
   ]
  },
  {
   "cell_type": "code",
   "execution_count": 33,
   "metadata": {},
   "outputs": [
    {
     "name": "stdout",
     "output_type": "stream",
     "text": [
      "Random Forest R squared: 0.8639\n"
     ]
    }
   ],
   "source": [
    "from sklearn.metrics import r2_score\n",
    "\n",
    "rf = RandomForestRegressor(random_state=42, n_estimators=100)\n",
    "rf.fit(X_train, y_train)\n",
    "\n",
    "y_pred = rf.predict(X_test)\n",
    "print(\"Random Forest R squared: {:.4f}\".format(r2_score(y_test, y_pred)))"
   ]
  },
  {
   "cell_type": "code",
   "execution_count": 34,
   "metadata": {},
   "outputs": [
    {
     "data": {
      "text/html": [
       "<div>\n",
       "<style scoped>\n",
       "    .dataframe tbody tr th:only-of-type {\n",
       "        vertical-align: middle;\n",
       "    }\n",
       "\n",
       "    .dataframe tbody tr th {\n",
       "        vertical-align: top;\n",
       "    }\n",
       "\n",
       "    .dataframe thead th {\n",
       "        text-align: right;\n",
       "    }\n",
       "</style>\n",
       "<table border=\"1\" class=\"dataframe\">\n",
       "  <thead>\n",
       "    <tr style=\"text-align: right;\">\n",
       "      <th></th>\n",
       "      <th>true</th>\n",
       "      <th>predicted</th>\n",
       "    </tr>\n",
       "  </thead>\n",
       "  <tbody>\n",
       "    <tr>\n",
       "      <th>694</th>\n",
       "      <td>31.480000</td>\n",
       "      <td>30.498450</td>\n",
       "    </tr>\n",
       "    <tr>\n",
       "      <th>665</th>\n",
       "      <td>15.910000</td>\n",
       "      <td>14.690483</td>\n",
       "    </tr>\n",
       "    <tr>\n",
       "      <th>63</th>\n",
       "      <td>39.015000</td>\n",
       "      <td>36.763050</td>\n",
       "    </tr>\n",
       "    <tr>\n",
       "      <th>533</th>\n",
       "      <td>19.483333</td>\n",
       "      <td>26.423850</td>\n",
       "    </tr>\n",
       "    <tr>\n",
       "      <th>66</th>\n",
       "      <td>47.800000</td>\n",
       "      <td>40.952767</td>\n",
       "    </tr>\n",
       "  </tbody>\n",
       "</table>\n",
       "</div>"
      ],
      "text/plain": [
       "          true  predicted\n",
       "694  31.480000  30.498450\n",
       "665  15.910000  14.690483\n",
       "63   39.015000  36.763050\n",
       "533  19.483333  26.423850\n",
       "66   47.800000  40.952767"
      ]
     },
     "execution_count": 34,
     "metadata": {},
     "output_type": "execute_result"
    }
   ],
   "source": [
    "y_test1 = y_test.copy()\n",
    "gross = []\n",
    "for i in y_pred:\n",
    "    gross.append(i)\n",
    "df = pd.DataFrame(data=gross)\n",
    "df = df.set_index(y_test1.index)\n",
    "df.rename(columns={0: \"predicted\"}, inplace=True)\n",
    "df1 = pd.concat([y_test1, df ], axis=1)\n",
    "df1.columns = [\"true\", \"predicted\"]\n",
    "df1.head()"
   ]
  },
  {
   "cell_type": "code",
   "execution_count": 35,
   "metadata": {},
   "outputs": [
    {
     "data": {
      "text/html": [
       "<div>\n",
       "<style scoped>\n",
       "    .dataframe tbody tr th:only-of-type {\n",
       "        vertical-align: middle;\n",
       "    }\n",
       "\n",
       "    .dataframe tbody tr th {\n",
       "        vertical-align: top;\n",
       "    }\n",
       "\n",
       "    .dataframe thead th {\n",
       "        text-align: right;\n",
       "    }\n",
       "</style>\n",
       "<table border=\"1\" class=\"dataframe\">\n",
       "  <thead>\n",
       "    <tr style=\"text-align: right;\">\n",
       "      <th></th>\n",
       "      <th>true</th>\n",
       "      <th>predicted</th>\n",
       "      <th>diff</th>\n",
       "    </tr>\n",
       "  </thead>\n",
       "  <tbody>\n",
       "    <tr>\n",
       "      <th>694</th>\n",
       "      <td>31.480000</td>\n",
       "      <td>30.498450</td>\n",
       "      <td>-0.981550</td>\n",
       "    </tr>\n",
       "    <tr>\n",
       "      <th>665</th>\n",
       "      <td>15.910000</td>\n",
       "      <td>14.690483</td>\n",
       "      <td>-1.219517</td>\n",
       "    </tr>\n",
       "    <tr>\n",
       "      <th>63</th>\n",
       "      <td>39.015000</td>\n",
       "      <td>36.763050</td>\n",
       "      <td>-2.251950</td>\n",
       "    </tr>\n",
       "    <tr>\n",
       "      <th>533</th>\n",
       "      <td>19.483333</td>\n",
       "      <td>26.423850</td>\n",
       "      <td>6.940517</td>\n",
       "    </tr>\n",
       "    <tr>\n",
       "      <th>66</th>\n",
       "      <td>47.800000</td>\n",
       "      <td>40.952767</td>\n",
       "      <td>-6.847233</td>\n",
       "    </tr>\n",
       "  </tbody>\n",
       "</table>\n",
       "</div>"
      ],
      "text/plain": [
       "          true  predicted      diff\n",
       "694  31.480000  30.498450 -0.981550\n",
       "665  15.910000  14.690483 -1.219517\n",
       "63   39.015000  36.763050 -2.251950\n",
       "533  19.483333  26.423850  6.940517\n",
       "66   47.800000  40.952767 -6.847233"
      ]
     },
     "execution_count": 35,
     "metadata": {},
     "output_type": "execute_result"
    }
   ],
   "source": [
    "df1[\"diff\"] = df1[\"predicted\"] - df1[\"true\"]\n",
    "df1.head()"
   ]
  },
  {
   "cell_type": "code",
   "execution_count": 36,
   "metadata": {},
   "outputs": [
    {
     "data": {
      "image/png": "[encoded data removed]",
      "text/plain": [
       "<Figure size 432x288 with 1 Axes>"
      ]
     },
     "metadata": {
      "needs_background": "light"
     },
     "output_type": "display_data"
    }
   ],
   "source": [
    "plt.hist(df1[\"diff\"], bins=26, color=\"pink\", edgecolor=\"brown\", linewidth=1.2)\n",
    "plt.axvline(0, color=\"red\", linestyle=\"dashed\", linewidth=1.6)\n",
    "plt.show()"
   ]
  },
  {
   "cell_type": "code",
   "execution_count": 37,
   "metadata": {},
   "outputs": [
    {
     "data": {
      "text/html": [
       "<div>\n",
       "<style scoped>\n",
       "    .dataframe tbody tr th:only-of-type {\n",
       "        vertical-align: middle;\n",
       "    }\n",
       "\n",
       "    .dataframe tbody tr th {\n",
       "        vertical-align: top;\n",
       "    }\n",
       "\n",
       "    .dataframe thead th {\n",
       "        text-align: right;\n",
       "    }\n",
       "</style>\n",
       "<table border=\"1\" class=\"dataframe\">\n",
       "  <thead>\n",
       "    <tr style=\"text-align: right;\">\n",
       "      <th></th>\n",
       "      <th>Count</th>\n",
       "    </tr>\n",
       "  </thead>\n",
       "  <tbody>\n",
       "    <tr>\n",
       "      <th>Underestimation</th>\n",
       "      <td>136</td>\n",
       "    </tr>\n",
       "    <tr>\n",
       "      <th>Exact Estimation</th>\n",
       "      <td>0</td>\n",
       "    </tr>\n",
       "    <tr>\n",
       "      <th>Overestimation</th>\n",
       "      <td>128</td>\n",
       "    </tr>\n",
       "  </tbody>\n",
       "</table>\n",
       "</div>"
      ],
      "text/plain": [
       "                  Count\n",
       "Underestimation     136\n",
       "Exact Estimation      0\n",
       "Overestimation      128"
      ]
     },
     "execution_count": 37,
     "metadata": {},
     "output_type": "execute_result"
    }
   ],
   "source": [
    "pd.DataFrame({\"Count\": [(df1[\"diff\"]<0).sum(), (df1[\"diff\"]==0).sum(),(df1[\"diff\"]>0).sum()]}, columns=[\"Count\"],index=[\"Underestimation\", \"Exact Estimation\", \"Overestimation\"])"
   ]
  },
  {
   "cell_type": "code",
   "execution_count": 38,
   "metadata": {},
   "outputs": [
    {
     "name": "stdout",
     "output_type": "stream",
     "text": [
      "Random Forest MSE: 20.0613\n"
     ]
    }
   ],
   "source": [
    "df1[\"Squared Error\"] = 0.00\n",
    "df1[\"Squared Error\"] = ( df1['true'] - df1['predicted'] )**2\n",
    "MSE = np.mean(df1[\"Squared Error\"])\n",
    "print(\"Random Forest MSE: {:.4f}\".format(MSE))"
   ]
  },
  {
   "cell_type": "code",
   "execution_count": 39,
   "metadata": {},
   "outputs": [
    {
     "name": "stdout",
     "output_type": "stream",
     "text": [
      "Random Forest RMSE: 4.4790\n"
     ]
    }
   ],
   "source": [
    "RMSE = np.sqrt(np.mean(df1[\"Squared Error\"]))\n",
    "print(\"Random Forest RMSE: {:.4f}\".format(RMSE))"
   ]
  },
  {
   "cell_type": "code",
   "execution_count": 40,
   "metadata": {},
   "outputs": [
    {
     "name": "stdout",
     "output_type": "stream",
     "text": [
      "Random Forest MAE: 3.3511\n"
     ]
    }
   ],
   "source": [
    "df1[\"Absolute Error\"] = 0.00\n",
    "df1[\"Absolute Error\"] = abs( df1['true'] - df1['predicted'] )\n",
    "MAE = np.mean(df1[\"Absolute Error\"])\n",
    "print(\"Random Forest MAE: {:.4f}\".format(MAE))"
   ]
  },
  {
   "cell_type": "code",
   "execution_count": 41,
   "metadata": {},
   "outputs": [
    {
     "name": "stdout",
     "output_type": "stream",
     "text": [
      "Random Forest MSLE: 2.3770%\n"
     ]
    }
   ],
   "source": [
    "from sklearn.metrics import mean_squared_log_error\n",
    "MSLE = mean_squared_log_error(y_test, y_pred)\n",
    "print(\"Random Forest MSLE: {:.4%}\".format(MSLE))"
   ]
  }
 ],
 "metadata": {
  "kernelspec": {
   "display_name": "Python 3",
   "language": "python",
   "name": "python3"
  },
  "language_info": {
   "codemirror_mode": {
    "name": "ipython",
    "version": 3
   },
   "file_extension": ".py",
   "mimetype": "text/x-python",
   "name": "python",
   "nbconvert_exporter": "python",
   "pygments_lexer": "ipython3",
   "version": "3.7.4"
  }
 },
 "nbformat": 4,
 "nbformat_minor": 4
}
